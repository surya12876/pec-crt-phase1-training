{
 "cells": [
  {
   "cell_type": "markdown",
   "id": "26879e95",
   "metadata": {},
   "source": [
    "## when  there is exception the customer doesn't want interuption or distrubance  in the progress flow this we are using handling.\n"
   ]
  },
  {
   "cell_type": "code",
   "execution_count": 16,
   "id": "0514d57d",
   "metadata": {},
   "outputs": [
    {
     "name": "stdout",
     "output_type": "stream",
     "text": [
      "6\n",
      "16.666666666666668\n"
     ]
    }
   ],
   "source": [
    "a=100\n",
    "b=int(input())\n",
    "try:#you are thinking may have a error\n",
    "    print(a/b)\n",
    "    \n",
    "except Exception as e:\n",
    "\n",
    "    print (\" c \")\n",
    "except ZeroDivisionError as e:\n",
    "     print(\"division with 0 is not possible\")\n",
    "except ValueError as e:\n",
    "      print(\"check your value\")\n",
    "if b%2!=0:\n",
    "     raise Exception(\"the input should be  even\")\n",
    "\n"
   ]
  },
  {
   "cell_type": "code",
   "execution_count": null,
   "id": "3eba0b4b",
   "metadata": {},
   "outputs": [],
   "source": []
  },
  {
   "cell_type": "markdown",
   "id": "94afce82",
   "metadata": {},
   "source": [
    "# oops"
   ]
  },
  {
   "cell_type": "markdown",
   "id": "138228a8",
   "metadata": {},
   "source": [
    "##### it is  an efficient concept used in object oriented languages like java, python . for multiple uses we use oops like for code reusability,hiding data , data security"
   ]
  },
  {
   "cell_type": "markdown",
   "id": "7b7bbbaf",
   "metadata": {},
   "source": [
    "#####  class: it the blue print "
   ]
  },
  {
   "cell_type": "markdown",
   "id": "adf930b7",
   "metadata": {},
   "source": [
    "##### object: it is  thing created  using class\n"
   ]
  },
  {
   "cell_type": "markdown",
   "id": "64f7e817",
   "metadata": {},
   "source": [
    "######  eg : laptop is a class  and objects are brands like lenovo , hp , dell"
   ]
  },
  {
   "cell_type": "code",
   "execution_count": 79,
   "id": "e6cdcd2d",
   "metadata": {},
   "outputs": [
    {
     "name": "stdout",
     "output_type": "stream",
     "text": [
      "0\n"
     ]
    }
   ],
   "source": [
    "class computer:\n",
    "     nm=0\n",
    "     def __init__(m,a,b):\n",
    "        m.b=b\n",
    "        m.a=a\n",
    "        \n",
    "     def config(m):\n",
    "        print(\"yes\")\n",
    "     def addnum(m):\n",
    "         print(m.nm)\n",
    "         print(m.a+m.b)\n",
    "        \n",
    "lenova=computer(5,7)\n",
    "print(lenova.nm)\n",
    "\n"
   ]
  },
  {
   "cell_type": "code",
   "execution_count": 8,
   "id": "4ae8ba4d",
   "metadata": {},
   "outputs": [],
   "source": [
    "score=0\n",
    "flag=True\n",
    "s=\"y\""
   ]
  },
  {
   "cell_type": "code",
   "execution_count": 9,
   "id": "9b8430aa",
   "metadata": {},
   "outputs": [
    {
     "name": "stdout",
     "output_type": "stream",
     "text": [
      "enter your name :sk\n",
      "greetings sk\n",
      "welcome to the quiz\n",
      "who won the icc cricket world cup t20 2022\n",
      "a.india\n",
      "b. srilanka\n",
      "c.pakistan\n",
      "d.england\n",
      "enter your answer:d\n",
      "your guess is correct\n",
      "your current score is 1\n",
      "who won the golden boot in fifa world cup 2022\n",
      "a.messi\n",
      "b. ronaldo\n",
      "c.mbappe\n",
      "d.neymar\n",
      "enter your answer:c\n",
      "your guess is correct\n",
      "your current score is 2\n",
      "who won the fifa world cup 2022\n",
      "a.argentina\n",
      "b.netherlands\n",
      "c. brazil\n",
      "d.france\n",
      "enter your answer:a\n",
      "your guess is correct\n",
      "your current score is 3\n",
      "3\n"
     ]
    }
   ],
   "source": [
    "q1='''who won the icc cricket world cup t20 2022\n",
    "a.india\n",
    "b. srilanka\n",
    "c.pakistan\n",
    "d.england'''\n",
    "q2='''who won the golden boot in fifa world cup 2022\n",
    "a.messi\n",
    "b. ronaldo\n",
    "c.mbappe\n",
    "d.neymar'''\n",
    "q3='''who won the fifa world cup 2022\n",
    "a.argentina\n",
    "b.netherlands\n",
    "c. brazil\n",
    "d.france'''\n",
    "questions={q1:\"d\",q2:\"c\",q3:\"a\"}\n",
    "name=input(\"enter your name :\")\n",
    "print( f\"greetings {name}\")\n",
    "print(\"welcome to the quiz\")\n",
    "for i in questions:\n",
    "    \n",
    "    print(i)\n",
    "    ans=input(\"enter your answer:\")\n",
    "    if ans==questions[i]:\n",
    "        print( \"your guess is correct\")\n",
    "        score=score+1\n",
    "        print(\"your current score is\",score)\n",
    "    else:\n",
    "        print(\"your answer is wrong:\")\n",
    "        score=score-1\n",
    "        print(\"do you want to quit the game\")\n",
    "        flag=input(\"enter your decision(y/n):\")\n",
    "        if flag== \"y\" or \"yes\" or \"YES\":\n",
    "            \n",
    "            flag=True\n",
    "                \n",
    "            \n",
    "        \n",
    "print(score)            \n",
    "            \n",
    "    "
   ]
  },
  {
   "cell_type": "code",
   "execution_count": 10,
   "id": "1b69582d",
   "metadata": {},
   "outputs": [
    {
     "name": "stdout",
     "output_type": "stream",
     "text": [
      "Enter the time in seconds: 5\n",
      "time up\n"
     ]
    }
   ],
   "source": [
    "# import the time module\n",
    "import time\n",
    "\n",
    "# define the countdown func.\n",
    "def countdown(t):\n",
    "\t\n",
    "\twhile t:\n",
    "\t\tmins,secs = divmod(t, 60)\n",
    "\t\ttimer = '{:02d}:{:02d}'.format(mins, secs)\n",
    "\t\tprint(timer, end=\"\\r\")\n",
    "\t\ttime.sleep(1)\n",
    "\t\tt -= 1\n",
    "\t\n",
    "\tprint('time up')\n",
    "\n",
    "\n",
    "# input time in seconds\n",
    "t = input(\"Enter the time in seconds: \")\n",
    "\n",
    "# function call\n",
    "countdown(int(t))\n"
   ]
  },
  {
   "cell_type": "code",
   "execution_count": 6,
   "id": "b05b966a",
   "metadata": {},
   "outputs": [
    {
     "name": "stdout",
     "output_type": "stream",
     "text": [
      "Player 1 name : vinod\n",
      "Player 2 name : swetha\n",
      "Relationship status : Marriage\n"
     ]
    }
   ],
   "source": [
    "# function for removing common characters\n",
    "# with their respective occurrences\n",
    "\n",
    "\n",
    "def remove_match_char(list1, list2):\n",
    "\n",
    "\tfor i in range(len(list1)):\n",
    "\t\tfor j in range(len(list2)):\n",
    "\n",
    "\t\t\t# if common character is found\n",
    "\t\t\t# then remove that character\n",
    "\t\t\t# and return list of concatenated\n",
    "\t\t\t# list with True Flag\n",
    "\t\t\tif list1[i] == list2[j]:\n",
    "\t\t\t\tc = list1[i]\n",
    "\n",
    "\t\t\t\t# remove character from the list\n",
    "\t\t\t\tlist1.remove(c)\n",
    "\t\t\t\tlist2.remove(c)\n",
    "\n",
    "\t\t\t\t# concatenation of two list elements with *\n",
    "\t\t\t\t# * is act as border mark here\n",
    "\t\t\t\tlist3 = list1 + [\"*\"] + list2\n",
    "\n",
    "\t\t\t\t# return the concatenated list with True flag\n",
    "\t\t\t\treturn [list3, True]\n",
    "\n",
    "\t# no common characters is found\n",
    "\t# return the concatenated list with False flag\n",
    "\tlist3 = list1 + [\"*\"] + list2\n",
    "\treturn [list3, False]\n",
    "\n",
    "\n",
    "# Driver code\n",
    "if __name__ == \"__main__\":\n",
    "\n",
    "\t# take first name\n",
    "\tp1 = input(\"Player 1 name : \")\n",
    "\n",
    "\t# converted all letters into lower case\n",
    "\tp1 = p1.lower()\n",
    "\n",
    "\t# replace any space with empty string\n",
    "\tp1.replace(\" \", \"\")\n",
    "\n",
    "\t# make a list of letters or characters\n",
    "\tp1_list = list(p1)\n",
    "\n",
    "\t# take 2nd name\n",
    "\tp2 = input(\"Player 2 name : \")\n",
    "\tp2 = p2.lower()\n",
    "\tp2.replace(\" \", \"\")\n",
    "\tp2_list = list(p2)\n",
    "\n",
    "\t# taking a flag as True initially\n",
    "\tproceed = True\n",
    "\n",
    "\t# keep calling remove_match_char function\n",
    "\t# until common characters is found or\n",
    "\t# keep looping until proceed flag is True\n",
    "\twhile proceed:\n",
    "\n",
    "\t\t# function calling and store return value\n",
    "\t\tret_list = remove_match_char(p1_list, p2_list)\n",
    "\n",
    "\t\t# take out concatenated list from return list\n",
    "\t\tcon_list = ret_list[0]\n",
    "\n",
    "\t\t# take out flag value from return list\n",
    "\t\tproceed = ret_list[1]\n",
    "\n",
    "\t\t# find the index of \"*\" / border mark\n",
    "\t\tstar_index = con_list.index(\"*\")\n",
    "\n",
    "\t\t# list slicing perform\n",
    "\n",
    "\t\t# all characters before * store in p1_list\n",
    "\t\tp1_list = con_list[: star_index]\n",
    "\n",
    "\t\t# all characters after * store in p2_list\n",
    "\t\tp2_list = con_list[star_index + 1:]\n",
    "\n",
    "\t# count total remaining characters\n",
    "\tcount = len(p1_list) + len(p2_list)\n",
    "\n",
    "\t# list of FLAMES acronym\n",
    "\tresult = [\"Friends\", \"Love\", \"Affection\", \"Marriage\", \"Enemy\", \"Siblings\"]\n",
    "\n",
    "\t# keep looping until only one item\n",
    "\t# is not remaining in the result list\n",
    "\twhile len(result) > 1:\n",
    "\n",
    "\t\t# store that index value from\n",
    "\t\t# where we have to perform slicing.\n",
    "\t\tsplit_index = (count % len(result) - 1)\n",
    "\n",
    "\t\t# this steps is done for performing\n",
    "\t\t# anticlock-wise circular fashion counting.\n",
    "\t\tif split_index >= 0:\n",
    "\n",
    "\t\t\t# list slicing\n",
    "\t\t\tright = result[split_index + 1:]\n",
    "\t\t\tleft = result[: split_index]\n",
    "\n",
    "\t\t\t# list concatenation\n",
    "\t\t\tresult = right + left\n",
    "\n",
    "\t\telse:\n",
    "\t\t\tresult = result[: len(result) - 1]\n",
    "\n",
    "\t# print final result\n",
    "\tprint(\"Relationship status :\", result[0])\n"
   ]
  },
  {
   "cell_type": "code",
   "execution_count": null,
   "id": "2864d7d5",
   "metadata": {},
   "outputs": [],
   "source": []
  },
  {
   "cell_type": "code",
   "execution_count": null,
   "id": "8f9c122a",
   "metadata": {},
   "outputs": [],
   "source": []
  }
 ],
 "metadata": {
  "kernelspec": {
   "display_name": "Python 3 (ipykernel)",
   "language": "python",
   "name": "python3"
  },
  "language_info": {
   "codemirror_mode": {
    "name": "ipython",
    "version": 3
   },
   "file_extension": ".py",
   "mimetype": "text/x-python",
   "name": "python",
   "nbconvert_exporter": "python",
   "pygments_lexer": "ipython3",
   "version": "3.9.7"
  }
 },
 "nbformat": 4,
 "nbformat_minor": 5
}
