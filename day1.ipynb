{
 "cells": [
  {
   "cell_type": "code",
   "execution_count": 1,
   "id": "6951eb1b",
   "metadata": {},
   "outputs": [
    {
     "name": "stdout",
     "output_type": "stream",
     "text": [
      "కిషోర్\n"
     ]
    }
   ],
   "source": [
    "print(chr(3093)+chr(3135)+chr(3127)+chr(3147)+chr(3120)+chr(3149))"
   ]
  },
  {
   "cell_type": "code",
   "execution_count": 2,
   "id": "86a25f08",
   "metadata": {},
   "outputs": [],
   "source": [
    "from translate import Translator"
   ]
  },
  {
   "cell_type": "code",
   "execution_count": 3,
   "id": "882a6515",
   "metadata": {},
   "outputs": [],
   "source": [
    "t=Translator(to_lang='te')"
   ]
  },
  {
   "cell_type": "code",
   "execution_count": 4,
   "id": "f4f660cd",
   "metadata": {},
   "outputs": [
    {
     "data": {
      "text/plain": [
       "'Sk'"
      ]
     },
     "execution_count": 4,
     "metadata": {},
     "output_type": "execute_result"
    }
   ],
   "source": [
    "t.translate(\" Sk\")"
   ]
  },
  {
   "cell_type": "code",
   "execution_count": 5,
   "id": "f2fcd5c5",
   "metadata": {},
   "outputs": [],
   "source": [
    "to_lang='te'"
   ]
  },
  {
   "cell_type": "code",
   "execution_count": 6,
   "id": "45972b39",
   "metadata": {},
   "outputs": [],
   "source": [
    "secret = '<your secret from Microsoft or DeepL>'"
   ]
  },
  {
   "cell_type": "code",
   "execution_count": null,
   "id": "cd191512",
   "metadata": {},
   "outputs": [],
   "source": []
  },
  {
   "cell_type": "code",
   "execution_count": 7,
   "id": "d6f90424",
   "metadata": {},
   "outputs": [
    {
     "name": "stdout",
     "output_type": "stream",
     "text": [
      "సూర\n"
     ]
    }
   ],
   "source": [
    "print(chr(3128)+chr(3138)+chr(3120))"
   ]
  },
  {
   "cell_type": "code",
   "execution_count": 8,
   "id": "be94398c",
   "metadata": {},
   "outputs": [],
   "source": [
    "_s=23"
   ]
  },
  {
   "cell_type": "code",
   "execution_count": 9,
   "id": "87cd4b86",
   "metadata": {},
   "outputs": [],
   "source": [
    "d = {\n",
    "  \"brand\": \"Ford\",\n",
    "  \"electric\": False,\n",
    "  \"year\": 1964,\n",
    "  \"l\": [1, 2, 3 ,4]\n",
    "}\n"
   ]
  },
  {
   "cell_type": "code",
   "execution_count": 10,
   "id": "b343cba2",
   "metadata": {},
   "outputs": [
    {
     "data": {
      "text/plain": [
       "dict"
      ]
     },
     "execution_count": 10,
     "metadata": {},
     "output_type": "execute_result"
    }
   ],
   "source": [
    "type(d)"
   ]
  },
  {
   "cell_type": "code",
   "execution_count": 11,
   "id": "4f157859",
   "metadata": {},
   "outputs": [
    {
     "data": {
      "text/plain": [
       "list"
      ]
     },
     "execution_count": 11,
     "metadata": {},
     "output_type": "execute_result"
    }
   ],
   "source": [
    "type(d[\"l\"])"
   ]
  },
  {
   "cell_type": "code",
   "execution_count": 12,
   "id": "fdee312e",
   "metadata": {},
   "outputs": [
    {
     "data": {
      "text/plain": [
       "False"
      ]
     },
     "execution_count": 12,
     "metadata": {},
     "output_type": "execute_result"
    }
   ],
   "source": [
    "isinstance(55.9,int)"
   ]
  },
  {
   "cell_type": "code",
   "execution_count": 13,
   "id": "f898f851",
   "metadata": {},
   "outputs": [
    {
     "data": {
      "text/plain": [
       "dict_keys(['brand', 'electric', 'year', 'l'])"
      ]
     },
     "execution_count": 13,
     "metadata": {},
     "output_type": "execute_result"
    }
   ],
   "source": [
    "d.keys()"
   ]
  },
  {
   "cell_type": "code",
   "execution_count": 14,
   "id": "36f950ab",
   "metadata": {},
   "outputs": [
    {
     "data": {
      "text/plain": [
       "[1, 2, 3, 4]"
      ]
     },
     "execution_count": 14,
     "metadata": {},
     "output_type": "execute_result"
    }
   ],
   "source": [
    "d[\"l\"]"
   ]
  },
  {
   "cell_type": "code",
   "execution_count": 15,
   "id": "05302775",
   "metadata": {},
   "outputs": [
    {
     "name": "stdout",
     "output_type": "stream",
     "text": [
      "the 7\n"
     ]
    }
   ],
   "source": [
    "a=7\n",
    "print(\"the\",str(a))"
   ]
  },
  {
   "cell_type": "code",
   "execution_count": 16,
   "id": "30c7db03",
   "metadata": {},
   "outputs": [
    {
     "name": "stdout",
     "output_type": "stream",
     "text": [
      "<class 'int'>\n"
     ]
    }
   ],
   "source": [
    "print(type(a))"
   ]
  },
  {
   "cell_type": "code",
   "execution_count": 17,
   "id": "2b2e0541",
   "metadata": {},
   "outputs": [],
   "source": [
    "#take 3 integers numbers, two float numbers , 1 complex,2 srings as input"
   ]
  },
  {
   "cell_type": "code",
   "execution_count": null,
   "id": "cc8db11f",
   "metadata": {},
   "outputs": [
    {
     "name": "stdout",
     "output_type": "stream",
     "text": [
      "input\n",
      ".....\n"
     ]
    }
   ],
   "source": [
    "print(\"input\")\n",
    "print(\".....\")\n",
    "i1 = int(input(\"enter first integer:\"))\n",
    "i2 = int(input(\"enter second integer :\"))\n",
    "f1 = float(input(\"enter first float:\"))\n",
    "f1 = float(input(\"enter second float:\"))\n",
    "s1=input(\"enter first string :\")\n",
    "s2=input(\"enter second string:\")\n",
    "s3=input(\"enter third string :\")\n",
    "c=complex(input(\"enter complex number:\"))\n",
    "print(\"output\")\n",
    "\n",
    "print(\"the value of integer is\", i1)\n",
    "print(\" the value of integer is\", i2)\n",
    "print(\" the value of float is\", f1)\n",
    "print(\" the value of float is\", f2)\n",
    "print(\" the value of string is\", f3)\n",
    "print(\" the value of string is\", s1)\n",
    "print(\" the value of string is\", s2)\n",
    "print(\" the value of string is\", s3)\n",
    "\n",
    "\n"
   ]
  },
  {
   "cell_type": "code",
   "execution_count": null,
   "id": "2176d7f4",
   "metadata": {},
   "outputs": [],
   "source": [
    "\n",
    "print(float((75/2)+(75/2)/2))\n"
   ]
  },
  {
   "cell_type": "code",
   "execution_count": null,
   "id": "ba9d61f7",
   "metadata": {},
   "outputs": [],
   "source": [
    "print( ((3*36.2)+56.19)-10)"
   ]
  },
  {
   "cell_type": "code",
   "execution_count": null,
   "id": "a7a27f8b",
   "metadata": {},
   "outputs": [],
   "source": [
    "print((4.5*(-6.5)))"
   ]
  },
  {
   "cell_type": "code",
   "execution_count": null,
   "id": "153da177",
   "metadata": {},
   "outputs": [],
   "source": [
    "print(9.5/5.6)"
   ]
  },
  {
   "cell_type": "code",
   "execution_count": null,
   "id": "c5c4c6aa",
   "metadata": {},
   "outputs": [],
   "source": [
    "a=(10!=10)"
   ]
  },
  {
   "cell_type": "code",
   "execution_count": null,
   "id": "ec585711",
   "metadata": {},
   "outputs": [],
   "source": [
    "print(a)"
   ]
  },
  {
   "cell_type": "code",
   "execution_count": null,
   "id": "3d47d6bb",
   "metadata": {},
   "outputs": [],
   "source": [
    "a,b ,c= map(float,input(\"enter:\").split(\",\"))\n",
    "\n",
    "print(a+b+c)"
   ]
  },
  {
   "cell_type": "code",
   "execution_count": null,
   "id": "03ddd940",
   "metadata": {},
   "outputs": [],
   "source": [
    "def myfunc(n):\n",
    "  return n\n",
    "\n",
    "\n",
    "l=[1,2,4,5]\n",
    "x = map(myfunc, l)\n",
    "print(x)"
   ]
  },
  {
   "cell_type": "code",
   "execution_count": null,
   "id": "6c7b98e5",
   "metadata": {},
   "outputs": [],
   "source": [
    "a,b=map(int,input(\"enter a number:\").split(\" \"))\n",
    "temp=a\n",
    "a=b\n",
    "b=temp\n",
    "print(a,b)\n"
   ]
  },
  {
   "cell_type": "code",
   "execution_count": 7,
   "id": "01ed2b51",
   "metadata": {},
   "outputs": [
    {
     "name": "stdout",
     "output_type": "stream",
     "text": [
      "enter numbers:5 6\n",
      "6 5\n"
     ]
    }
   ],
   "source": [
    "a,b=map(int,input(\"enter numbers:\").split(\" \"))\n",
    "\n",
    "\n",
    "a,b=b,a\n",
    "\n",
    "print(a,b)\n"
   ]
  },
  {
   "cell_type": "code",
   "execution_count": null,
   "id": "4ffaff1a",
   "metadata": {},
   "outputs": [],
   "source": [
    "a,b=map(int,input(\"enter a number:\").split(\" \"))\n",
    "print(\"area\")\n",
    "print(a*b)\n",
    "print(\"perimeter\")\n",
    "print(2*(a+b))"
   ]
  },
  {
   "cell_type": "code",
   "execution_count": 11,
   "id": "47ff7e98",
   "metadata": {},
   "outputs": [
    {
     "name": "stdout",
     "output_type": "stream",
     "text": [
      "enter numbers:5 10\n",
      "10 5\n"
     ]
    }
   ],
   "source": [
    "a,b=map(int,input(\"enter numbers:\").split(\" \"))\n",
    "a=a+b\n",
    "b=a-b\n",
    "a=a-b\n",
    "print(a,b)"
   ]
  },
  {
   "cell_type": "code",
   "execution_count": null,
   "id": "da9382af",
   "metadata": {},
   "outputs": [],
   "source": []
  }
 ],
 "metadata": {
  "kernelspec": {
   "display_name": "Python 3 (ipykernel)",
   "language": "python",
   "name": "python3"
  },
  "language_info": {
   "codemirror_mode": {
    "name": "ipython",
    "version": 3
   },
   "file_extension": ".py",
   "mimetype": "text/x-python",
   "name": "python",
   "nbconvert_exporter": "python",
   "pygments_lexer": "ipython3",
   "version": "3.9.7"
  }
 },
 "nbformat": 4,
 "nbformat_minor": 5
}
