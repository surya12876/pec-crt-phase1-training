{
 "cells": [
  {
   "cell_type": "markdown",
   "id": "c0f35ab8",
   "metadata": {},
   "source": [
    "d={n:n*n for n in range(1,5)}\n",
    "print(d)"
   ]
  },
  {
   "cell_type": "code",
   "execution_count": 10,
   "id": "e1719a97",
   "metadata": {},
   "outputs": [
    {
     "name": "stdout",
     "output_type": "stream",
     "text": [
      "{'color3': 'blue', 'color4': 'blue'}\n"
     ]
    }
   ],
   "source": [
    "d={ \"color1\":\"red\", \"color2\":\"black\",\"color3\":\"blue\", \"color4\":\"blue\"}\n",
    "s={color:colortag for(color,colortag) in  d.items() if colortag==\"blue\"}\n",
    "print(s)"
   ]
  },
  {
   "cell_type": "markdown",
   "id": "9a0e6afc",
   "metadata": {},
   "source": [
    "# create list with 8 customer names display a dictionary which has customers names along with discounts for them from a particular shop"
   ]
  },
  {
   "cell_type": "code",
   "execution_count": 29,
   "id": "98672dc0",
   "metadata": {},
   "outputs": [
    {
     "name": "stdout",
     "output_type": "stream",
     "text": [
      "{'sk': '23%', 'surya': '37%', 'kishore': '24%'}\n"
     ]
    }
   ],
   "source": [
    "import random\n",
    "l=[\"sk\", \"surya\",\"kishore\"]\n",
    "\n",
    "s={l:f\"{random.randint(1,101)}%\" for l in l   }\n",
    "print(s)"
   ]
  },
  {
   "cell_type": "code",
   "execution_count": 56,
   "id": "6307952a",
   "metadata": {},
   "outputs": [
    {
     "name": "stdout",
     "output_type": "stream",
     "text": [
      "{'a': '60.4%', 'b': '61.199999999999996%', 'c': '96.2%'}\n",
      "{'a': 90, 'b': 91, 'c': 93}\n"
     ]
    }
   ],
   "source": [
    "l1=[\"a\",\"b\",\"c\"]\n",
    "l4=[\"chemsitry\",\"math\"]\n",
    "l2=[90,91,93, 45 ,56]\n",
    "l3=[91,92,93]\n",
    "\n",
    "s={a:f\"{(random.randint(300,500)/500)*100}%\"  for a in l1 }\n",
    "print(s)\n",
    "l1={ a:b for (a,b) in zip(l1,l2)}\n",
    "print(l1)"
   ]
  },
  {
   "cell_type": "code",
   "execution_count": 62,
   "id": "939da648",
   "metadata": {},
   "outputs": [
    {
     "name": "stdout",
     "output_type": "stream",
     "text": [
      "hill3\n",
      "1679564172080\n",
      "-1\n"
     ]
    }
   ],
   "source": [
    "name= \"hiLL3\"\n",
    "print(name.lower())\n",
    "print(id(name))\n",
    "print(name.find(\"k\"))"
   ]
  },
  {
   "cell_type": "code",
   "execution_count": 19,
   "id": "b6b9f8e6",
   "metadata": {},
   "outputs": [
    {
     "name": "stdout",
     "output_type": "stream",
     "text": [
      "HILL3\n",
      "1679564172080\n"
     ]
    }
   ],
   "source": [
    "print(name.upper())\n",
    "print(id(name))"
   ]
  },
  {
   "cell_type": "code",
   "execution_count": 20,
   "id": "d5d81ae1",
   "metadata": {},
   "outputs": [
    {
     "name": "stdout",
     "output_type": "stream",
     "text": [
      "False\n"
     ]
    }
   ],
   "source": [
    "print(name.endswith(\"L\"))"
   ]
  },
  {
   "cell_type": "code",
   "execution_count": 21,
   "id": "f02d1895",
   "metadata": {},
   "outputs": [
    {
     "name": "stdout",
     "output_type": "stream",
     "text": [
      "LiLL3\n",
      "2\n"
     ]
    }
   ],
   "source": [
    "print(name.replace(\"h\",\"L\"))\n",
    "print(name.count(\"L\"))"
   ]
  },
  {
   "cell_type": "code",
   "execution_count": 22,
   "id": "2b77513b",
   "metadata": {},
   "outputs": [
    {
     "name": "stdout",
     "output_type": "stream",
     "text": [
      "2\n"
     ]
    }
   ],
   "source": [
    "print(name.index(\"L\",0,len(name)))"
   ]
  },
  {
   "cell_type": "code",
   "execution_count": 23,
   "id": "9fe83dda",
   "metadata": {},
   "outputs": [
    {
     "name": "stdout",
     "output_type": "stream",
     "text": [
      "1679564172080\n"
     ]
    }
   ],
   "source": [
    "    print(id(name))"
   ]
  },
  {
   "cell_type": "code",
   "execution_count": 35,
   "id": "1bd09ac5",
   "metadata": {},
   "outputs": [
    {
     "name": "stdout",
     "output_type": "stream",
     "text": [
      "1679567996544\n"
     ]
    }
   ],
   "source": [
    "l=[1,2,3,4]\n",
    "print(id(l))"
   ]
  },
  {
   "cell_type": "markdown",
   "id": "7312bda5",
   "metadata": {},
   "source": [
    "# get 1 string as input along with a character find and display a particular character is present or not\n"
   ]
  },
  {
   "cell_type": "code",
   "execution_count": 66,
   "id": "ad96858d",
   "metadata": {},
   "outputs": [
    {
     "name": "stdout",
     "output_type": "stream",
     "text": [
      "amma\n",
      "a\n",
      "it is present \n"
     ]
    }
   ],
   "source": [
    "str1=input()\n",
    "i=input()\n",
    "\n",
    "while i1 in str1:\n",
    "    \n",
    "    if i==i1:\n",
    "          print(\"it is present \")\n",
    "          break\n",
    "else:\n",
    "    print(\"not found\")"
   ]
  },
  {
   "cell_type": "code",
   "execution_count": 55,
   "id": "7c4ea959",
   "metadata": {},
   "outputs": [
    {
     "name": "stdout",
     "output_type": "stream",
     "text": [
      "it is not a palindrome\n"
     ]
    }
   ],
   "source": [
    " if str1==str1[::-1]:\n",
    "        print(\"it is a palindrome\")\n",
    "else:\n",
    "    print(\"it is not a palindrome\")"
   ]
  },
  {
   "cell_type": "code",
   "execution_count": 94,
   "id": "ffee1a95",
   "metadata": {},
   "outputs": [
    {
     "ename": "SyntaxError",
     "evalue": "cannot assign to literal (Temp/ipykernel_14364/2057231864.py, line 4)",
     "output_type": "error",
     "traceback": [
      "\u001b[1;36m  File \u001b[1;32m\"C:\\Users\\PC-46\\AppData\\Local\\Temp/ipykernel_14364/2057231864.py\"\u001b[1;36m, line \u001b[1;32m4\u001b[0m\n\u001b[1;33m    for \" \" in str:\u001b[0m\n\u001b[1;37m        ^\u001b[0m\n\u001b[1;31mSyntaxError\u001b[0m\u001b[1;31m:\u001b[0m cannot assign to literal\n"
     ]
    }
   ],
   "source": [
    "str=input()\n",
    "#print(\"yes there is space\") if \" \" in str else print(\"nah\")\n",
    "count=0\n",
    "for \" \" in str:\n",
    "        print(\"yes ther is space\")\n",
    "        count=count+1\n",
    "else:\n",
    "    print(\"space is not present\")\n",
    "print(count)    "
   ]
  },
  {
   "cell_type": "code",
   "execution_count": 123,
   "id": "af872f4d",
   "metadata": {},
   "outputs": [
    {
     "name": "stdout",
     "output_type": "stream",
     "text": [
      "wwwwwweeidscdssdidsludkjkailmo\n",
      "no vowels present\n",
      "no vowels present\n",
      "no vowels present\n",
      "no vowels present\n",
      "no vowels present\n",
      "no vowels present\n",
      "no vowels present\n",
      "no vowels present\n",
      "no vowels present\n",
      "no vowels present\n",
      "no vowels present\n",
      "no vowels present\n",
      "no vowels present\n",
      "no vowels present\n",
      "no vowels present\n",
      "no vowels present\n",
      "no vowels present\n",
      "no vowels present\n",
      "no vowels present\n",
      "no vowels present\n",
      "no vowels present\n",
      "no vowels present\n",
      "['e', 'e', 'i', 'i', 'u', 'a', 'i', 'o']\n",
      "8\n"
     ]
    }
   ],
   "source": [
    "l=\"AEIOUaeiou\"\n",
    "l2=[]\n",
    "st=input()\n",
    "for  i in st:\n",
    "    if  i  in l:\n",
    "         l2.append(i)\n",
    "    else:\n",
    "        print(\"no vowels present\")\n",
    "    \n",
    "print(l2)\n",
    "print(len(l2))"
   ]
  },
  {
   "cell_type": "code",
   "execution_count": null,
   "id": "59030200",
   "metadata": {},
   "outputs": [],
   "source": []
  },
  {
   "cell_type": "code",
   "execution_count": null,
   "id": "c6ebd163",
   "metadata": {},
   "outputs": [],
   "source": []
  }
 ],
 "metadata": {
  "kernelspec": {
   "display_name": "Python 3 (ipykernel)",
   "language": "python",
   "name": "python3"
  },
  "language_info": {
   "codemirror_mode": {
    "name": "ipython",
    "version": 3
   },
   "file_extension": ".py",
   "mimetype": "text/x-python",
   "name": "python",
   "nbconvert_exporter": "python",
   "pygments_lexer": "ipython3",
   "version": "3.9.7"
  }
 },
 "nbformat": 4,
 "nbformat_minor": 5
}
