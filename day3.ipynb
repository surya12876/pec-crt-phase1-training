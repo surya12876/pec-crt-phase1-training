{
 "cells": [
  {
   "cell_type": "code",
   "execution_count": 8,
   "id": "a01bcf70",
   "metadata": {},
   "outputs": [
    {
     "name": "stdout",
     "output_type": "stream",
     "text": [
      "2 3 4\n",
      "[2, 3]\n"
     ]
    }
   ],
   "source": [
    "l= list (map(int,input().split(\" \")))[:2]\n",
    "print(l)\n",
    "m=[2]"
   ]
  },
  {
   "cell_type": "code",
   "execution_count": null,
   "id": "749ce33d",
   "metadata": {},
   "outputs": [],
   "source": [
    "# l.reverse()\n",
    "print(l)\n",
    "print(l.count(1))\n",
    "\n",
    "l.append(4)\n",
    "print(l)\n",
    "l.extend(m)\n",
    "print(l)\n",
    "\n",
    "print(len(l))\n",
    "l.remove(2)\n",
    "print(l)\n",
    "l.sort()\n",
    "print(l)\n",
    "l.pop(1)\n",
    "\n",
    "print(l)\n",
    "l.clear()\n",
    "print(l)\n",
    "l.insert(1,5)\n",
    "print(l)\n",
    "l.insert(0,2)\n",
    "l.index(2)"
   ]
  },
  {
   "cell_type": "code",
   "execution_count": 8,
   "id": "d069e982",
   "metadata": {},
   "outputs": [
    {
     "name": "stdout",
     "output_type": "stream",
     "text": [
      "45\n",
      "it is not a neon number\n"
     ]
    }
   ],
   "source": [
    "n=int(input())\n",
    "total=0\n",
    "num=n*n\n",
    "while(num!=0):\n",
    "    num1=num%10\n",
    "    num=num//10\n",
    "    \n",
    "    total=total+num1\n",
    "    \n",
    "\n",
    "\n",
    "if(n==total):\n",
    "    print('it is a neon number')\n",
    "else:\n",
    "    print(\"it is not a neon number\")\n",
    "\n"
   ]
  },
  {
   "cell_type": "code",
   "execution_count": 15,
   "id": "5f25e902",
   "metadata": {},
   "outputs": [
    {
     "name": "stdout",
     "output_type": "stream",
     "text": [
      "4 5 6 7\n",
      "22\n"
     ]
    }
   ],
   "source": [
    "prod=1\n",
    "l=list(map(int,input().split()))\n",
    "sum(l)\n",
    "for i in l:\n",
    "        prod=prod*i\n",
    "if(prod<750):\n",
    "    print(\"product is less than 750\", end=\".product is: \")\n",
    "    print( prod)\n",
    "else:\n",
    "    print(sum(l)) \n",
    "    "
   ]
  },
  {
   "cell_type": "code",
   "execution_count": 31,
   "id": "a4aea672",
   "metadata": {},
   "outputs": [
    {
     "name": "stdout",
     "output_type": "stream",
     "text": [
      "4\n"
     ]
    }
   ],
   "source": [
    "x = lambda a, b : print( a if a>b  else b )\n",
    "                 \n",
    "x(3,4)"
   ]
  },
  {
   "cell_type": "code",
   "execution_count": 6,
   "id": "f7d17878",
   "metadata": {},
   "outputs": [
    {
     "name": "stdout",
     "output_type": "stream",
     "text": [
      "{'S': 'sk', 'U': 'sk', 'R': 'sk', 'Y': 'sk', 'A': 'sk'}\n"
     ]
    }
   ],
   "source": [
    "l=[\"surya\",\"sk\"]\n",
    "n3={n3:i for n3 in \"SURYA\" for i in l if ord(n3)>=65 and ord(n3)<=90  }\n",
    "print(n3)\n",
    "    "
   ]
  },
  {
   "cell_type": "code",
   "execution_count": 69,
   "id": "b1a2bfd1",
   "metadata": {},
   "outputs": [
    {
     "name": "stdout",
     "output_type": "stream",
     "text": [
      "[1, 3]\n"
     ]
    }
   ],
   "source": [
    "l=[1, 2 ,3]\n",
    "n=[n for n in l if n%2!=0 ]\n",
    "print(n)"
   ]
  },
  {
   "cell_type": "code",
   "execution_count": 94,
   "id": "7ff52cd7",
   "metadata": {},
   "outputs": [
    {
     "name": "stdout",
     "output_type": "stream",
     "text": [
      "False\n",
      "{1, 2, 3, 4, 6}\n",
      "{1, 4, 6}\n",
      "{1, 2, 3, 4}\n"
     ]
    }
   ],
   "source": [
    "s={1,2,3}\n",
    "s2={3,2,}\n",
    "s.add(4)\n",
    "print(s.issuperset(s2))\n",
    "print(s|s2)\n",
    "print(s^s2)\n",
    "print(s)\n",
    "print()"
   ]
  },
  {
   "cell_type": "markdown",
   "id": "e724ebfe",
   "metadata": {},
   "source": [
    "# DICTIONARY CONTAINS ELEMENTS WITHOUT TWO UNITS KEYS AND VALUES\n"
   ]
  },
  {
   "cell_type": "code",
   "execution_count": 2,
   "id": "a107d726",
   "metadata": {},
   "outputs": [
    {
     "name": "stdout",
     "output_type": "stream",
     "text": [
      "dict_values([1, 2, [1, 2, 3, 4]])\n",
      "dict_values([1, 2, [1, 2, 3, 4]])\n"
     ]
    }
   ],
   "source": [
    " k=[4 ,5 ,6]\n",
    "d={\n",
    "        \"k\":1,\n",
    "        \"m\":2,\n",
    "        \"l\":[1,2,3,4]\n",
    "    }\n",
    "print(d.values()) \n",
    "type(d)\n",
    "d.fromkeys('m',6)\n",
    "print(d.values())"
   ]
  },
  {
   "cell_type": "code",
   "execution_count": null,
   "id": "7168480f",
   "metadata": {},
   "outputs": [],
   "source": [
    "l=[1,2,3]\n",
    "str1=input()\n",
    "d={\n",
    "    \n",
    "}\n",
    "for i in l:\n",
    "    \n",
    "    d.fromkeys(str1,l[i])\n"
   ]
  },
  {
   "cell_type": "code",
   "execution_count": 10,
   "id": "49733c4d",
   "metadata": {},
   "outputs": [
    {
     "name": "stdout",
     "output_type": "stream",
     "text": [
      "97\n"
     ]
    }
   ],
   "source": [
    "print(ord(\"a\"))"
   ]
  },
  {
   "cell_type": "code",
   "execution_count": null,
   "id": "1570d7fa",
   "metadata": {},
   "outputs": [],
   "source": []
  }
 ],
 "metadata": {
  "kernelspec": {
   "display_name": "Python 3 (ipykernel)",
   "language": "python",
   "name": "python3"
  },
  "language_info": {
   "codemirror_mode": {
    "name": "ipython",
    "version": 3
   },
   "file_extension": ".py",
   "mimetype": "text/x-python",
   "name": "python",
   "nbconvert_exporter": "python",
   "pygments_lexer": "ipython3",
   "version": "3.9.7"
  }
 },
 "nbformat": 4,
 "nbformat_minor": 5
}
