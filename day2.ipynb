{
 "cells": [
  {
   "cell_type": "code",
   "execution_count": 3,
   "id": "41c4e6c8",
   "metadata": {},
   "outputs": [
    {
     "name": "stdout",
     "output_type": "stream",
     "text": [
      "<class 'int'>\n"
     ]
    }
   ],
   "source": [
    "#o's and 1's \n",
    "#some operation if u do the dz the will be faster \n",
    "print(type(10&4))"
   ]
  },
  {
   "cell_type": "code",
   "execution_count": 13,
   "id": "25497744",
   "metadata": {},
   "outputs": [
    {
     "data": {
      "text/plain": [
       "3"
      ]
     },
     "execution_count": 13,
     "metadata": {},
     "output_type": "execute_result"
    }
   ],
   "source": [
    "(5^6)\n"
   ]
  },
  {
   "cell_type": "code",
   "execution_count": 16,
   "id": "3d792e56",
   "metadata": {},
   "outputs": [
    {
     "data": {
      "text/plain": [
       "1"
      ]
     },
     "execution_count": 16,
     "metadata": {},
     "output_type": "execute_result"
    }
   ],
   "source": [
    "9^8"
   ]
  },
  {
   "cell_type": "code",
   "execution_count": 17,
   "id": "b0db36a3",
   "metadata": {},
   "outputs": [
    {
     "data": {
      "text/plain": [
       "40"
      ]
     },
     "execution_count": 17,
     "metadata": {},
     "output_type": "execute_result"
    }
   ],
   "source": [
    "10<<2"
   ]
  },
  {
   "cell_type": "code",
   "execution_count": 18,
   "id": "9a837322",
   "metadata": {},
   "outputs": [
    {
     "data": {
      "text/plain": [
       "2"
      ]
     },
     "execution_count": 18,
     "metadata": {},
     "output_type": "execute_result"
    }
   ],
   "source": [
    "10>>2\n"
   ]
  },
  {
   "cell_type": "code",
   "execution_count": 28,
   "id": "8e8a93c8",
   "metadata": {},
   "outputs": [
    {
     "name": "stdout",
     "output_type": "stream",
     "text": [
      "enter :6 7\n",
      "6\n",
      "1\n",
      "6\n"
     ]
    }
   ],
   "source": [
    "a,b=map(int, input(\"enter :\").split(\" \"))\n",
    "if (a&b <15):\n",
    "         print(a & b)\n",
    "         print(a^b)\n",
    "         print(a or b)\n",
    "        "
   ]
  },
  {
   "cell_type": "code",
   "execution_count": 11,
   "id": "4a7b9961",
   "metadata": {
    "scrolled": true
   },
   "outputs": [
    {
     "name": "stdout",
     "output_type": "stream",
     "text": [
      "enter a number 5 6\n",
      "[5, 6]\n",
      "30\n"
     ]
    }
   ],
   "source": [
    "a=list(map(int, input(\"enter a number \").strip(\"80\").split()))\n",
    "t=1\n",
    "print(a)\n",
    "for i in range(0, len(a)):\n",
    "    \n",
    "    \n",
    "    t=t*a[i]\n",
    "print(t)\n",
    "        "
   ]
  },
  {
   "cell_type": "code",
   "execution_count": 36,
   "id": "d85d53e8",
   "metadata": {},
   "outputs": [
    {
     "name": "stdout",
     "output_type": "stream",
     "text": [
      "5\n",
      "\n",
      "*****\t\n",
      "****\t\t\n",
      "***\t\t\t\n",
      "**\t\t\t\t\n",
      "*"
     ]
    }
   ],
   "source": [
    "n=int(input())\n",
    "for i in range(0,n):\n",
    "    \n",
    "    print(\"\\t\"*i)\n",
    "    for k in range(i):\n",
    "       print(\" \"*k ,)\n",
    "    for j in range(i,n):\n",
    "        \n",
    "        \n",
    "        print(\"*\",end=\"\" )\n",
    "        \n",
    "        \n",
    "    "
   ]
  },
  {
   "cell_type": "code",
   "execution_count": 18,
   "id": "0faee852",
   "metadata": {},
   "outputs": [
    {
     "name": "stdout",
     "output_type": "stream",
     "text": [
      "hi  m\n"
     ]
    }
   ],
   "source": [
    "print( \"hi\",\"\"*2,\"m\")"
   ]
  },
  {
   "cell_type": "code",
   "execution_count": 7,
   "id": "2f1a0fc1",
   "metadata": {},
   "outputs": [
    {
     "name": "stdout",
     "output_type": "stream",
     "text": [
      "2\n",
      "4\n",
      "6\n",
      "8\n",
      "10\n",
      "12\n",
      "14\n",
      "16\n",
      "18\n",
      "20\n",
      "[21, 22, 23, 24, 25, 26, 27, 28, 29]\n"
     ]
    }
   ],
   "source": [
    "i=2\n",
    "l=[]\n",
    "while(i<30):\n",
    "    if(i%2==0):\n",
    "        print(i)\n",
    "        \n",
    "    else\n",
    "       \n",
    "        \n",
    "    i=i+1 \n",
    "print(l)    "
   ]
  },
  {
   "cell_type": "markdown",
   "id": "9dca6c95",
   "metadata": {},
   "source": []
  },
  {
   "cell_type": "code",
   "execution_count": null,
   "id": "c0059518",
   "metadata": {},
   "outputs": [],
   "source": [
    "import random \n",
    "import getpass\n",
    "number=getpass.getpass(\"enter a number\")\n",
    "num=getpass.(random.randint(1,100))\n"
   ]
  },
  {
   "cell_type": "code",
   "execution_count": null,
   "id": "b7dc284c",
   "metadata": {},
   "outputs": [],
   "source": []
  },
  {
   "cell_type": "code",
   "execution_count": 15,
   "id": "09c3717e",
   "metadata": {},
   "outputs": [
    {
     "name": "stdout",
     "output_type": "stream",
     "text": [
      "1\n"
     ]
    }
   ],
   "source": []
  },
  {
   "cell_type": "code",
   "execution_count": null,
   "id": "34a8d358",
   "metadata": {},
   "outputs": [],
   "source": []
  }
 ],
 "metadata": {
  "kernelspec": {
   "display_name": "Python 3 (ipykernel)",
   "language": "python",
   "name": "python3"
  },
  "language_info": {
   "codemirror_mode": {
    "name": "ipython",
    "version": 3
   },
   "file_extension": ".py",
   "mimetype": "text/x-python",
   "name": "python",
   "nbconvert_exporter": "python",
   "pygments_lexer": "ipython3",
   "version": "3.9.7"
  }
 },
 "nbformat": 4,
 "nbformat_minor": 5
}
