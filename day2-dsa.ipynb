{
 "cells": [
  {
   "cell_type": "markdown",
   "id": "5789eed3",
   "metadata": {},
   "source": [
    "# helps to write efficient programs\n",
    "# linear-arrays/linkedlist/stack/queue/matrix\n",
    "# non linear -binary tree/graphs/heap/hashtable\n",
    "# linear -storing data sequentially\n",
    "# non linear- storing data without any sequence\n",
    "# static -arrays\n",
    "# dyanmic-lists,stack,queue"
   ]
  },
  {
   "cell_type": "code",
   "execution_count": null,
   "id": "5932c66d",
   "metadata": {},
   "outputs": [],
   "source": []
  },
  {
   "cell_type": "markdown",
   "id": "d4ff0cc7",
   "metadata": {},
   "source": [
    "# linked list as the name says lists the items with are linked with one and another  is called linked list"
   ]
  },
  {
   "cell_type": "markdown",
   "id": "4114be21",
   "metadata": {},
   "source": [
    "# types of linked lists\n",
    "# 1.single linked lists\n",
    "# 2. double linked lists\n",
    "# 3. circular linked lists"
   ]
  },
  {
   "cell_type": "markdown",
   "id": "1b640b8f",
   "metadata": {},
   "source": [
    "# every node has a data and address segment"
   ]
  },
  {
   "cell_type": "code",
   "execution_count": null,
   "id": "87ea0dd5",
   "metadata": {},
   "outputs": [],
   "source": []
  },
  {
   "cell_type": "markdown",
   "id": "4f074542",
   "metadata": {},
   "source": [
    "\n",
    "# creating a linked list\n",
    "# step1-create the node\n",
    "# step2-partition the node with two segments\n",
    "# step3 -add value into the blank node \n",
    "# step4- mark the node as head \n",
    "# step5 - create the next node by flowing the above steps \n",
    "# step6-establish the link between first node and the second node\n",
    "\n",
    "#                                                                                              \n",
    "# displaying the linked list./.\n",
    "# traversal is required from firt nodetill tail node in order to display existing linked list"
   ]
  },
  {
   "cell_type": "markdown",
   "id": "8f8c7525",
   "metadata": {},
   "source": [
    "   # creating node-declaration &definition"
   ]
  },
  {
   "cell_type": "code",
   "execution_count": 6,
   "id": "a9fe39e7",
   "metadata": {},
   "outputs": [
    {
     "name": "stdout",
     "output_type": "stream",
     "text": [
      "<__main__.node object at 0x000001CF23290AF0>\n",
      "10 -> 21 -> 30 -> "
     ]
    }
   ],
   "source": [
    "class node:\n",
    "    def __init__(self,data):\n",
    "        self.data=data\n",
    "        self.next=None\n",
    "class singlelinkedlist:\n",
    "    def __init__(self):\n",
    "        self.head=None\n",
    "    def display(self):\n",
    "        if self.head is None:\n",
    "            print(\"linked list is empty\")\n",
    "        else:\n",
    "            temp=self.head\n",
    "            while temp:\n",
    "                print(temp.data,\"->\", end=\" \")\n",
    "                temp=temp.next\n",
    "obj=singlelinkedlist()\n",
    "n=node(10)\n",
    "obj.head=n\n",
    "n1=node(21)\n",
    "obj.head.next=n1\n",
    "print(n1)\n",
    "n2=node(30)\n",
    "n1.next=n2\n",
    "obj.display()\n",
    "\n",
    "            "
   ]
  },
  {
   "cell_type": "code",
   "execution_count": 17,
   "id": "fc4a7df0",
   "metadata": {},
   "outputs": [
    {
     "name": "stdout",
     "output_type": "stream",
     "text": [
      "<__main__.node object at 0x000001CF23374A90>\n",
      "w i n n e r "
     ]
    }
   ],
   "source": [
    "class node:\n",
    "    def __init__(self,data):\n",
    "        self.data=data\n",
    "        self.next=None\n",
    "class singlelinkedlist:\n",
    "    def __init__(self):\n",
    "        self.head=None\n",
    "    def display(self):\n",
    "        if self.head is None:\n",
    "            print(\"linked list is empty\")\n",
    "        else:\n",
    "            temp=self.head\n",
    "            while temp:\n",
    "                print(temp.data, end=\" \")\n",
    "                temp=temp.next\n",
    "obj=singlelinkedlist()\n",
    "n=node(\"w\")\n",
    "obj.head=n\n",
    "n1=node(\"i\")\n",
    "obj.head.next=n1\n",
    "\n",
    "n2=node(\"n\")\n",
    "n1.next=n2\n",
    "n3=node(\"n\")\n",
    "n2.next=n3\n",
    "n4=node(\"e\")\n",
    "n3.next=n4\n",
    "n5=node(\"r\")\n",
    "n4.next=n5\n",
    "obj.display()\n"
   ]
  },
  {
   "cell_type": "markdown",
   "id": "162ff46e",
   "metadata": {},
   "source": [
    "# linked list insertion at begining"
   ]
  },
  {
   "cell_type": "code",
   "execution_count": 24,
   "id": "85227e00",
   "metadata": {},
   "outputs": [
    {
     "name": "stdout",
     "output_type": "stream",
     "text": [
      "sk\n",
      "w\n",
      "i\n",
      "n\n",
      "n\n",
      "e\n",
      "r\n"
     ]
    }
   ],
   "source": [
    "class node:\n",
    "    def __init__(self,data):\n",
    "        self.data=data\n",
    "        self.next=None\n",
    "class singlelinkedlist:\n",
    "    def __init__(self):\n",
    "        self.head=None\n",
    "    def beginning(self,data):\n",
    "        nb=node(data)\n",
    "        nb.next=self.head\n",
    "        self.head=nb\n",
    "    def display(self):\n",
    "            if self.head is None:\n",
    "                print(\"linked list is empty\")\n",
    "            else:\n",
    "                temp=self.head\n",
    "                while temp:\n",
    "                    print(temp.data)\n",
    "                    temp=temp.next\n",
    "obj=singlelinkedlist()\n",
    "n=node(\"w\")\n",
    "obj.head=n\n",
    "n1=node(\"i\")\n",
    "obj.head.next=n1\n",
    "\n",
    "n2=node(\"n\")\n",
    "n1.next=n2\n",
    "n3=node(\"n\")\n",
    "n2.next=n3\n",
    "n4=node(\"e\")\n",
    "n3.next=n4\n",
    "n5=node(\"r\")\n",
    "n4.next=n5\n",
    "\n",
    "obj.beginning(\"sk\") \n",
    "obj.display()\n",
    "        "
   ]
  },
  {
   "cell_type": "markdown",
   "id": "27d8cb83",
   "metadata": {},
   "source": [
    "# insertion at the end\n"
   ]
  },
  {
   "cell_type": "code",
   "execution_count": 25,
   "id": "9e955588",
   "metadata": {},
   "outputs": [
    {
     "name": "stdout",
     "output_type": "stream",
     "text": [
      "sk\n",
      "w\n",
      "i\n",
      "n\n",
      "n\n",
      "e\n",
      "r\n",
      "uu\n"
     ]
    }
   ],
   "source": [
    "class node:\n",
    "    def __init__(self,data):\n",
    "        self.data=data\n",
    "        self.next=None\n",
    "class singlelinkedlist:\n",
    "    def __init__(self):\n",
    "        self.head=None\n",
    "    def beginning(self,data):\n",
    "        nb=node(data)\n",
    "        nb.next=self.head\n",
    "        self.head=nb\n",
    "    def atend(self,data):\n",
    "        ne=node(data)\n",
    "        temp=self.head\n",
    "        while temp.next:\n",
    "            temp=temp.next\n",
    "        temp.next=ne\n",
    "    def display(self):\n",
    "            if self.head is None:\n",
    "                print(\"linked list is empty\")\n",
    "            else:\n",
    "                temp=self.head\n",
    "                while temp:\n",
    "                    print(temp.data)\n",
    "                    temp=temp.next\n",
    "obj=singlelinkedlist()\n",
    "n=node(\"w\")\n",
    "obj.head=n\n",
    "n1=node(\"i\")\n",
    "obj.head.next=n1\n",
    "\n",
    "n2=node(\"n\")\n",
    "n1.next=n2\n",
    "n3=node(\"n\")\n",
    "n2.next=n3\n",
    "n4=node(\"e\")\n",
    "n3.next=n4\n",
    "n5=node(\"r\")\n",
    "n4.next=n5\n",
    "\n",
    "obj.beginning(\"sk\") \n",
    "obj.atend(\"uu\")\n",
    "obj.display()\n"
   ]
  },
  {
   "cell_type": "markdown",
   "id": "df75d697",
   "metadata": {},
   "source": [
    "# insert at a position\n"
   ]
  },
  {
   "cell_type": "code",
   "execution_count": 40,
   "id": "7f411f15",
   "metadata": {},
   "outputs": [
    {
     "name": "stdout",
     "output_type": "stream",
     "text": [
      "w\n",
      "55\n",
      "i\n",
      "n\n",
      "n\n",
      "e\n",
      "r\n"
     ]
    }
   ],
   "source": [
    "class node:\n",
    "    def __init__(self,data):\n",
    "        self.data=data\n",
    "        self.next=None\n",
    "class singlelinkedlist:\n",
    "    def __init__(self):\n",
    "        self.head=None\n",
    "   \n",
    "        \n",
    "    def atpos(self,pos,data):\n",
    "        np=node(data)\n",
    "        temp=self.head\n",
    "        for i in range(pos-1):\n",
    "            temp=temp.next\n",
    "        np.next=temp.next\n",
    "        temp.next=np\n",
    "    def display(self):\n",
    "            if self.head is None:\n",
    "                print(\"linked list is empty\")\n",
    "            else:\n",
    "                temp=self.head\n",
    "                while temp:\n",
    "                    print(temp.data)\n",
    "                    temp=temp.next\n",
    "obj=singlelinkedlist()\n",
    "n=node(\"w\")\n",
    "obj.head=n\n",
    "n1=node(\"i\")\n",
    "obj.head.next=n1\n",
    "\n",
    "n2=node(\"n\")\n",
    "n1.next=n2\n",
    "n3=node(\"n\")\n",
    "n2.next=n3\n",
    "n4=node(\"e\")\n",
    "n3.next=n4\n",
    "n5=node(\"r\")\n",
    "n4.next=n5\n",
    "obj.atpos(0,\"55\")\n",
    "\n",
    "\n",
    "obj.display()\n"
   ]
  },
  {
   "cell_type": "code",
   "execution_count": null,
   "id": "0af53068",
   "metadata": {},
   "outputs": [],
   "source": []
  },
  {
   "cell_type": "code",
   "execution_count": null,
   "id": "cb5bdebc",
   "metadata": {},
   "outputs": [],
   "source": []
  }
 ],
 "metadata": {
  "kernelspec": {
   "display_name": "Python 3 (ipykernel)",
   "language": "python",
   "name": "python3"
  },
  "language_info": {
   "codemirror_mode": {
    "name": "ipython",
    "version": 3
   },
   "file_extension": ".py",
   "mimetype": "text/x-python",
   "name": "python",
   "nbconvert_exporter": "python",
   "pygments_lexer": "ipython3",
   "version": "3.9.7"
  }
 },
 "nbformat": 4,
 "nbformat_minor": 5
}
