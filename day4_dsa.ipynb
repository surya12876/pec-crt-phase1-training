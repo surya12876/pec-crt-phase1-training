{
 "cells": [
  {
   "cell_type": "markdown",
   "id": "af54596f",
   "metadata": {},
   "source": [
    "# stacks"
   ]
  },
  {
   "cell_type": "code",
   "execution_count": 2,
   "id": "485b663c",
   "metadata": {},
   "outputs": [
    {
     "name": "stdout",
     "output_type": "stream",
     "text": [
      "enter your choice:\n",
      "1\n",
      "1.push,2.pop,3.quit\n",
      "enter an element :2\n",
      "[2]\n",
      "enter your choice:\n",
      "5\n",
      "1.push,2.pop,3.quit\n",
      "enter your choice:\n",
      "3\n",
      "1.push,2.pop,3.quit\n",
      "[2]\n"
     ]
    }
   ],
   "source": [
    "stack=[]\n",
    "def push():\n",
    "    element=int(input(\"enter an element :\"))\n",
    "    stack.append(element)\n",
    "    print(stack)\n",
    "def pop():\n",
    "    if not stack:\n",
    "        print(\"stack is empty\")\n",
    "    else:\n",
    "        stack.pop()\n",
    "        print(stack)\n",
    "while(True):\n",
    "    print(\"enter your choice:\")\n",
    "    choice=int(input())\n",
    "    print(\"1.push,2.pop,3.quit\")\n",
    "    if choice==1:\n",
    "        push()\n",
    "    elif choice==2:\n",
    "        pop()\n",
    "    elif choice==3:\n",
    "        print(stack)\n",
    "        break\n",
    "    else:\n",
    "        pass"
   ]
  },
  {
   "cell_type": "markdown",
   "id": "a76d9c5c",
   "metadata": {},
   "source": [
    "# stack using linked list"
   ]
  },
  {
   "cell_type": "code",
   "execution_count": 19,
   "id": "dd018cd8",
   "metadata": {},
   "outputs": [
    {
     "name": "stdout",
     "output_type": "stream",
     "text": [
      "3->2->1"
     ]
    }
   ],
   "source": [
    "class node:\n",
    "    def __init__(self,data):\n",
    "        self.data=data\n",
    "        self.next=None\n",
    "class stack:\n",
    "    def __init__(self):\n",
    "        self.head=None\n",
    "    def isempty(self):\n",
    "        if self.head==None:\n",
    "            return True\n",
    "        else:\n",
    "            return False\n",
    "    def push(self,data):\n",
    "        n_node=node(data)\n",
    "        if self.head== None:\n",
    "            self.head=n_node\n",
    "        else:\n",
    "            n_node.next=self.head\n",
    "            self.head=n_node\n",
    "    def pop(self):\n",
    "        if self.isempty():\n",
    "            return None\n",
    "        else:\n",
    "            ele=self.head\n",
    "            self.head=self.head.next\n",
    "            ele.next=None\n",
    "    def peek(self):\n",
    "        t=self.head\n",
    "        if self.isempty():\n",
    "            print(\"stack is underflow\")\n",
    "        else:\n",
    "            print(self.head.data)\n",
    "    def display(self):\n",
    "        t=self.head\n",
    "        if self.isempty():\n",
    "            print(\"stack underflow\")\n",
    "        else:\n",
    "            while (t!=None):\n",
    "                print(t.data,end=\"\")\n",
    "                t=t.next\n",
    "                if(t!=None):\n",
    "                    print(\"->\",end=\"\")\n",
    "            \n",
    "if __name__==\"__main__\":\n",
    "    s=stack()\n",
    "    s.push(1)\n",
    "    s.push(2)\n",
    "    s.push(3)\n",
    "    s.display()\n",
    "    "
   ]
  },
  {
   "cell_type": "code",
   "execution_count": 30,
   "id": "be78f17d",
   "metadata": {},
   "outputs": [
    {
     "name": "stdout",
     "output_type": "stream",
     "text": [
      "enter a string:sdfghjk\n"
     ]
    }
   ],
   "source": [
    "s=input(\"enter a string:\")\n",
    "s1=s[::-1]\n",
    "if s==s1:\n",
    "\n"
   ]
  },
  {
   "cell_type": "code",
   "execution_count": 4,
   "id": "d4231341",
   "metadata": {},
   "outputs": [
    {
     "name": "stdout",
     "output_type": "stream",
     "text": [
      "({(\n",
      "unbalanced\n"
     ]
    }
   ],
   "source": [
    "st=[]\n",
    "balance=True\n",
    "s=input()\n",
    "for i in s:\n",
    "    if i==\"{\" or i==\"[\" or i == \"(\":\n",
    "        st.append(i)\n",
    "    elif(i=='}'):\n",
    "        if(len(st) and st.pop()!='{'):\n",
    "            balance=False\n",
    "            break\n",
    "    elif(i==']'):\n",
    "        if(len(st) and st.pop()!='['):\n",
    "            balance=False\n",
    "            break\n",
    "    elif(i==')'):\n",
    "        if(len(st) and st.pop()!='('):\n",
    "            balance=False\n",
    "            break\n",
    "    else:\n",
    "        balance=True\n",
    "        break\n",
    "if balance==False or len(st):\n",
    "    print(\"unbalanced\")\n",
    "else:\n",
    "    print(\"balanced\")\n",
    "    \n",
    "        \n",
    "                 "
   ]
  },
  {
   "cell_type": "code",
   "execution_count": null,
   "id": "a75bf929",
   "metadata": {},
   "outputs": [
    {
     "name": "stdout",
     "output_type": "stream",
     "text": [
      "enter your choice:\n"
     ]
    }
   ],
   "source": [
    "queue=[]\n",
    "def enqueue():\n",
    "    element=int(input(\"enter an element :\"))\n",
    "    queue.append(element)\n",
    "    print(queue)\n",
    "def dequeue():\n",
    "    if not queue:\n",
    "        print(\"queue is empty\")\n",
    "    else:\n",
    "        queue.pop(0)\n",
    "        print(queue)\n",
    "def display():\n",
    "    print(queue)\n",
    "while(True):\n",
    "    print(\"enter your choice:\")\n",
    "    choice=int(input())\n",
    "    print(\"1.push,2.pop,3.display,4.quit\")\n",
    "    if choice==1:\n",
    "        enqueue()\n",
    "    elif choice==2:\n",
    "         dequeue()\n",
    "    elif choice==3:\n",
    "        display()\n",
    "        break\n",
    "    elif choice==4:\n",
    "        \n",
    "        break\n",
    "        \n",
    "    else:\n",
    "        pass"
   ]
  },
  {
   "cell_type": "code",
   "execution_count": 1,
   "id": "8fb5df25",
   "metadata": {
    "scrolled": true
   },
   "outputs": [
    {
     "name": "stdout",
     "output_type": "stream",
     "text": [
      "0\n",
      "True\n",
      "4\n",
      "4\n",
      "3\n",
      "False\n",
      "False\n"
     ]
    }
   ],
   "source": [
    "from queue import LifoQueue\n",
    "s=LifoQueue(maxsize=4)\n",
    "print(s.qsize())\n",
    "s.put(1)\n",
    "s.put(2)\n",
    "s.put(3)\n",
    "s.put(4)\n",
    "print(s.full())\n",
    "print(s.qsize())\n",
    "print(s.get())\n",
    "print(s.get())\n",
    "print(s.full())\n",
    "print(s.empty())"
   ]
  },
  {
   "cell_type": "code",
   "execution_count": 15,
   "id": "2d9d6f28",
   "metadata": {},
   "outputs": [
    {
     "name": "stdout",
     "output_type": "stream",
     "text": [
      "20\n"
     ]
    }
   ],
   "source": [
    "import queue\n",
    "q=queue.Queue(maxsize=4)\n",
    "q.put(20)\n",
    "q.put(30)\n",
    "l=q\n",
    "print(q.get())\n",
    "\n"
   ]
  },
  {
   "cell_type": "code",
   "execution_count": null,
   "id": "f5bccf8c",
   "metadata": {},
   "outputs": [],
   "source": []
  },
  {
   "cell_type": "markdown",
   "id": "7fd46d4c",
   "metadata": {},
   "source": [
    "#  queue using linked list\n"
   ]
  },
  {
   "cell_type": "code",
   "execution_count": 6,
   "id": "7835cc67",
   "metadata": {},
   "outputs": [
    {
     "name": "stdout",
     "output_type": "stream",
     "text": [
      "enqueue<value>\n",
      "dequeue\n",
      "quit\n",
      "what could you like to doenqueue 300\n",
      "enqueue<value>\n",
      "dequeue\n",
      "quit\n",
      "what could you like to doenqueue 200\n",
      "enqueue<value>\n",
      "dequeue\n",
      "quit\n",
      "what could you like to doquit\n"
     ]
    }
   ],
   "source": [
    "class node:\n",
    "    def __init__(self,data):\n",
    "        self.data=data\n",
    "        self.next=None\n",
    "class queue:\n",
    "    def __init__(self):\n",
    "        self.head=None\n",
    "        self.last=None\n",
    "    def enqueue(self,data):\n",
    "        if self.last is None:\n",
    "            self.head=node(data)\n",
    "            self.last=self.head\n",
    "        else:\n",
    "            self.last.next=node(data)\n",
    "            self.last=self.last.next\n",
    "    def dequeue(self):\n",
    "        if self.head is None:\n",
    "            self.head =self.head.next\n",
    "            return None\n",
    "        else:\n",
    "            ele=self.head.data\n",
    "            self.head=self.head.next\n",
    "            return ele\n",
    "a_queue=queue()\n",
    "while True:\n",
    "    print(\"enqueue<value>\")\n",
    "    print(\"dequeue\")\n",
    "    print(\"quit\")\n",
    "    do=input(\"what could you like to do\").split()\n",
    "    operation=do[0].strip().lower()\n",
    "    if operation ==\"enqueue\":\n",
    "        a_queue.enqueue(int(do[1]))\n",
    "    elif operation ==\"dequeue\":\n",
    "        dequeue=a_queue.dequeue()\n",
    "        if dequeue is None:\n",
    "            print(\"queue is empty\")\n",
    "        else:\n",
    "            print(\"dequeue elememt\",int(dequeue))\n",
    "    elif operation==\"quit\":\n",
    "        break\n",
    "        "
   ]
  },
  {
   "cell_type": "markdown",
   "id": "c40c09d7",
   "metadata": {},
   "source": [
    "# deleting duplicate numbers in a linked lists"
   ]
  },
  {
   "cell_type": "code",
   "execution_count": 1,
   "id": "7c589b9d",
   "metadata": {},
   "outputs": [
    {
     "name": "stdout",
     "output_type": "stream",
     "text": [
      "please enter the elements in the list1 2 3\n"
     ]
    },
    {
     "ename": "NameError",
     "evalue": "name 'a_list' is not defined",
     "output_type": "error",
     "traceback": [
      "\u001b[1;31m---------------------------------------------------------------------------\u001b[0m",
      "\u001b[1;31mNameError\u001b[0m                                 Traceback (most recent call last)",
      "\u001b[1;32m~\\AppData\\Local\\Temp/ipykernel_4344/1485312197.py\u001b[0m in \u001b[0;36m<module>\u001b[1;34m\u001b[0m\n\u001b[0;32m     48\u001b[0m \u001b[0mdata_list\u001b[0m\u001b[1;33m=\u001b[0m\u001b[0minput\u001b[0m\u001b[1;33m(\u001b[0m\u001b[1;34m\"please enter the elements in the list\"\u001b[0m\u001b[1;33m)\u001b[0m\u001b[1;33m.\u001b[0m\u001b[0msplit\u001b[0m\u001b[1;33m(\u001b[0m\u001b[1;33m)\u001b[0m\u001b[1;33m\u001b[0m\u001b[1;33m\u001b[0m\u001b[0m\n\u001b[0;32m     49\u001b[0m \u001b[1;32mfor\u001b[0m \u001b[0mdata\u001b[0m \u001b[1;32min\u001b[0m \u001b[0mdata_list\u001b[0m\u001b[1;33m:\u001b[0m\u001b[1;33m\u001b[0m\u001b[1;33m\u001b[0m\u001b[0m\n\u001b[1;32m---> 50\u001b[1;33m    \u001b[0ma_list\u001b[0m\u001b[1;33m.\u001b[0m\u001b[0mappend\u001b[0m\u001b[1;33m(\u001b[0m\u001b[0mint\u001b[0m\u001b[1;33m(\u001b[0m\u001b[0mdata\u001b[0m\u001b[1;33m)\u001b[0m\u001b[1;33m)\u001b[0m\u001b[1;33m\u001b[0m\u001b[1;33m\u001b[0m\u001b[0m\n\u001b[0m\u001b[0;32m     51\u001b[0m \u001b[0mremove_duplicates\u001b[0m\u001b[1;33m(\u001b[0m\u001b[0ma_llist\u001b[0m\u001b[1;33m)\u001b[0m\u001b[1;33m\u001b[0m\u001b[1;33m\u001b[0m\u001b[0m\n\u001b[0;32m     52\u001b[0m \u001b[0mprint\u001b[0m\u001b[1;33m(\u001b[0m\u001b[1;34m\"list with duiplicates removed:\"\u001b[0m\u001b[1;33m)\u001b[0m\u001b[1;33m\u001b[0m\u001b[1;33m\u001b[0m\u001b[0m\n",
      "\u001b[1;31mNameError\u001b[0m: name 'a_list' is not defined"
     ]
    }
   ],
   "source": [
    " class node:\n",
    "    def __init__(self,data):\n",
    "        self.data=data\n",
    "        self.next=None\n",
    "class linkedlist:\n",
    "    def __init__(self):\n",
    "        self.head=None\n",
    "        self.last=None\n",
    "    def append(self,data):\n",
    "        if self.last is None:\n",
    "            self.head=node(data)\n",
    "            self.last=self.head\n",
    "        else:\n",
    "            self.last.next=node(data)\n",
    "            self.last=self.last.next\n",
    "    def get_prev_node(self,ref_node):\n",
    "        current=self.head\n",
    "        while(current and current.next!=ref_node):\n",
    "            current ==current.next\n",
    "            return current\n",
    "    def get_prev_node(self,ref_node):\n",
    "        current=self.head\n",
    "        while current and current.next!=ref_node:\n",
    "            current =current.next\n",
    "            return current\n",
    "    def remove(self,node):\n",
    "        prev_node=self.get_prev_node(node)\n",
    "        if prev_node is None:\n",
    "            self.head=self.head.next\n",
    "        else:\n",
    "            prev_node.next=node.next\n",
    "    def display(self):\n",
    "        current=self.head\n",
    "        while current:\n",
    "            print(current.data,end=\" \")\n",
    "            current=current.next\n",
    "def remove_duplicates(llist):\n",
    "        current1=list.head\n",
    "        while current1:\n",
    "            data =current1.data\n",
    "            current2=current1.data\n",
    "        while current2:\n",
    "            if current2.data==data:\n",
    "                llist.remove(current2)\n",
    "            current2=current2.next\n",
    "            current1=current1.next\n",
    "a_llist=linkedlist()\n",
    "data_list=input(\"please enter the elements in the list\").split()\n",
    "for data in data_list:\n",
    "    a_list.append(int(data))\n",
    "remove_duplicates(a_llist)\n",
    "print(\"list with duiplicates removed:\")\n",
    "a_llist.display()\n"
   ]
  },
  {
   "cell_type": "markdown",
   "id": "bb4cffbf",
   "metadata": {},
   "source": [
    "# single linked list implementation,single linked list routines\n",
    "# double linked list  implememtation"
   ]
  },
  {
   "cell_type": "code",
   "execution_count": null,
   "id": "c85aa407",
   "metadata": {},
   "outputs": [],
   "source": []
  }
 ],
 "metadata": {
  "kernelspec": {
   "display_name": "Python 3 (ipykernel)",
   "language": "python",
   "name": "python3"
  },
  "language_info": {
   "codemirror_mode": {
    "name": "ipython",
    "version": 3
   },
   "file_extension": ".py",
   "mimetype": "text/x-python",
   "name": "python",
   "nbconvert_exporter": "python",
   "pygments_lexer": "ipython3",
   "version": "3.9.7"
  }
 },
 "nbformat": 4,
 "nbformat_minor": 5
}
