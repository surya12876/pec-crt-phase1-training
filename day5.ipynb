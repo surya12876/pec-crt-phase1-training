{
 "cells": [
  {
   "cell_type": "code",
   "execution_count": 1,
   "id": "8b597c96",
   "metadata": {},
   "outputs": [],
   "source": [
    "import random as r"
   ]
  },
  {
   "cell_type": "code",
   "execution_count": 2,
   "id": "414ed15d",
   "metadata": {},
   "outputs": [
    {
     "name": "stdout",
     "output_type": "stream",
     "text": [
      "[7.8776051427957245, 3.2009321209518915, 4.8154663255650725, 6.141107499884394, 3.5389646862067172, 9.322258689382867, 1.8644059084479623]\n"
     ]
    }
   ],
   "source": [
    "a=list((r.uniform(1,10)  for x in range(7) ))\n",
    "print(a)"
   ]
  },
  {
   "cell_type": "code",
   "execution_count": 3,
   "id": "e3c83d74",
   "metadata": {},
   "outputs": [
    {
     "name": "stdout",
     "output_type": "stream",
     "text": [
      "[4.8154663255650725, 4.8154663255650725, 1.8644059084479623, 6.141107499884394, 9.322258689382867]\n"
     ]
    }
   ],
   "source": [
    "print(r.choices(a,k=5))\n",
    "      "
   ]
  },
  {
   "cell_type": "code",
   "execution_count": 3,
   "id": "2f80bc58",
   "metadata": {},
   "outputs": [
    {
     "name": "stdout",
     "output_type": "stream",
     "text": [
      "['Calendar', 'EPOCH', 'FRIDAY', 'February', 'HTMLCalendar', 'IllegalMonthError', 'IllegalWeekdayError', 'January', 'LocaleHTMLCalendar', 'LocaleTextCalendar', 'MONDAY', 'SATURDAY', 'SUNDAY', 'THURSDAY', 'TUESDAY', 'TextCalendar', 'WEDNESDAY', '_EPOCH_ORD', '__all__', '__builtins__', '__cached__', '__doc__', '__file__', '__loader__', '__name__', '__package__', '__spec__', '_colwidth', '_locale', '_localized_day', '_localized_month', '_monthlen', '_nextmonth', '_prevmonth', '_spacing', 'c', 'calendar', 'datetime', 'day_abbr', 'day_name', 'different_locale', 'error', 'firstweekday', 'format', 'formatstring', 'isleap', 'leapdays', 'main', 'mdays', 'month', 'month_abbr', 'month_name', 'monthcalendar', 'monthrange', 'prcal', 'prmonth', 'prweek', 'repeat', 'setfirstweekday', 'sys', 'timegm', 'week', 'weekday', 'weekheader']\n"
     ]
    }
   ],
   "source": [
    "import calendar as c\n",
    "print(dir(c))"
   ]
  },
  {
   "cell_type": "code",
   "execution_count": 4,
   "id": "45d6d174",
   "metadata": {},
   "outputs": [
    {
     "name": "stdout",
     "output_type": "stream",
     "text": [
      "                                  2023\n",
      "\n",
      "      January                   February                   March\n",
      "Mo Tu We Th Fr Sa Su      Mo Tu We Th Fr Sa Su      Mo Tu We Th Fr Sa Su\n",
      "                   1             1  2  3  4  5             1  2  3  4  5\n",
      " 2  3  4  5  6  7  8       6  7  8  9 10 11 12       6  7  8  9 10 11 12\n",
      " 9 10 11 12 13 14 15      13 14 15 16 17 18 19      13 14 15 16 17 18 19\n",
      "16 17 18 19 20 21 22      20 21 22 23 24 25 26      20 21 22 23 24 25 26\n",
      "23 24 25 26 27 28 29      27 28                     27 28 29 30 31\n",
      "30 31\n",
      "\n",
      "       April                      May                       June\n",
      "Mo Tu We Th Fr Sa Su      Mo Tu We Th Fr Sa Su      Mo Tu We Th Fr Sa Su\n",
      "                1  2       1  2  3  4  5  6  7                1  2  3  4\n",
      " 3  4  5  6  7  8  9       8  9 10 11 12 13 14       5  6  7  8  9 10 11\n",
      "10 11 12 13 14 15 16      15 16 17 18 19 20 21      12 13 14 15 16 17 18\n",
      "17 18 19 20 21 22 23      22 23 24 25 26 27 28      19 20 21 22 23 24 25\n",
      "24 25 26 27 28 29 30      29 30 31                  26 27 28 29 30\n",
      "\n",
      "        July                     August                  September\n",
      "Mo Tu We Th Fr Sa Su      Mo Tu We Th Fr Sa Su      Mo Tu We Th Fr Sa Su\n",
      "                1  2          1  2  3  4  5  6                   1  2  3\n",
      " 3  4  5  6  7  8  9       7  8  9 10 11 12 13       4  5  6  7  8  9 10\n",
      "10 11 12 13 14 15 16      14 15 16 17 18 19 20      11 12 13 14 15 16 17\n",
      "17 18 19 20 21 22 23      21 22 23 24 25 26 27      18 19 20 21 22 23 24\n",
      "24 25 26 27 28 29 30      28 29 30 31               25 26 27 28 29 30\n",
      "31\n",
      "\n",
      "      October                   November                  December\n",
      "Mo Tu We Th Fr Sa Su      Mo Tu We Th Fr Sa Su      Mo Tu We Th Fr Sa Su\n",
      "                   1             1  2  3  4  5                   1  2  3\n",
      " 2  3  4  5  6  7  8       6  7  8  9 10 11 12       4  5  6  7  8  9 10\n",
      " 9 10 11 12 13 14 15      13 14 15 16 17 18 19      11 12 13 14 15 16 17\n",
      "16 17 18 19 20 21 22      20 21 22 23 24 25 26      18 19 20 21 22 23 24\n",
      "23 24 25 26 27 28 29      27 28 29 30               25 26 27 28 29 30 31\n",
      "30 31\n",
      "\n",
      "     March 2022\n",
      "Mo Tu We Th Fr Sa Su\n",
      "    1  2  3  4  5  6\n",
      " 7  8  9 10 11 12 13\n",
      "14 15 16 17 18 19 20\n",
      "21 22 23 24 25 26 27\n",
      "28 29 30 31\n",
      "\n"
     ]
    }
   ],
   "source": [
    "#alendertweekday(calendar.SATURDAY)\n",
    "\n",
    "print(c.calendar(2023))\n",
    "print(c.month(2022,3))\n",
    "\n",
    "      \n",
    "      \n",
    "\n"
   ]
  },
  {
   "cell_type": "markdown",
   "id": "4e406712",
   "metadata": {},
   "source": [
    "##### for code reuseability we use functions  we want to use a particular concept multiple times in our program instead of writing same code multiple times we can write at once include that inside a function and can call the function where ever we need"
   ]
  },
  {
   "cell_type": "markdown",
   "id": "bf5e3890",
   "metadata": {},
   "source": [
    "##### types of functions"
   ]
  },
  {
   "cell_type": "markdown",
   "id": "931950d4",
   "metadata": {},
   "source": [
    "##### function with argument  without return value.\n",
    "\n"
   ]
  },
  {
   "cell_type": "markdown",
   "id": "93466d47",
   "metadata": {},
   "source": [
    "##### function without argument with return value.\n"
   ]
  },
  {
   "cell_type": "code",
   "execution_count": 6,
   "id": "5508aaf2",
   "metadata": {},
   "outputs": [
    {
     "name": "stdout",
     "output_type": "stream",
     "text": [
      "panichusko \n",
      "panichusko \n"
     ]
    }
   ],
   "source": [
    "def sample():\n",
    "    print('panichusko ')\n",
    "sample()\n",
    "sample()"
   ]
  },
  {
   "cell_type": "code",
   "execution_count": 3,
   "id": "da5505cb",
   "metadata": {},
   "outputs": [
    {
     "name": "stdout",
     "output_type": "stream",
     "text": [
      "5\n",
      "1\n",
      "2\n",
      "3\n",
      "4\n"
     ]
    }
   ],
   "source": [
    "def hi(x):\n",
    "    for i in range(1,x):\n",
    "        print(i)\n",
    "x=int(input())\n",
    "hi(x)"
   ]
  },
  {
   "cell_type": "code",
   "execution_count": 1,
   "id": "db9dc215",
   "metadata": {},
   "outputs": [
    {
     "name": "stdout",
     "output_type": "stream",
     "text": [
      "9\n"
     ]
    }
   ],
   "source": [
    "print(9)"
   ]
  },
  {
   "cell_type": "code",
   "execution_count": 1,
   "id": "739cbacf",
   "metadata": {},
   "outputs": [
    {
     "name": "stdout",
     "output_type": "stream",
     "text": [
      "2\n",
      "3\n",
      "4\n",
      "5\n"
     ]
    }
   ],
   "source": [
    "def h1(i,x):\n",
    "     if i<x:\n",
    "            \n",
    "            i=i+1\n",
    "\n",
    "            print(i)\n",
    "            h1(i,x)\n",
    "            \n",
    "h1(1,5)"
   ]
  },
  {
   "cell_type": "code",
   "execution_count": 18,
   "id": "c22852a7",
   "metadata": {},
   "outputs": [
    {
     "name": "stdout",
     "output_type": "stream",
     "text": [
      "5 6\n",
      "6*5= 30\n",
      "6*6= 36\n",
      "6*7= 42\n",
      "6*8= 48\n",
      "6*9= 54\n",
      "6*10= 60\n"
     ]
    }
   ],
   "source": [
    "def h1(i,x):\n",
    "    for i2 in range(x):\n",
    "       print(f\"{x}\"\"*\"f\"{i}=\",i*x)\n",
    "       i=i+1\n",
    "i,x=map(int,(input(\"\").split(\" \")))\n",
    "h1(i,x)"
   ]
  },
  {
   "cell_type": "code",
   "execution_count": 5,
   "id": "99e95a39",
   "metadata": {},
   "outputs": [
    {
     "name": "stdout",
     "output_type": "stream",
     "text": [
      "[1, 3, 5, 9, 13, 15, 19, 39, 45, 57, 65, 95, 117, 171, 195, 247, 285, 585, 741, 855, 1235, 2223, 3705, 11115]\n"
     ]
    }
   ],
   "source": [
    "def factors(n):\n",
    "    l=[x for x in range( 1,n+1)  if n%x==0]\n",
    "    print(l)\n",
    "factors(11115)"
   ]
  },
  {
   "cell_type": "code",
   "execution_count": 2,
   "id": "b3c4e435",
   "metadata": {},
   "outputs": [
    {
     "name": "stdout",
     "output_type": "stream",
     "text": [
      "56\n",
      "sum is 11\n"
     ]
    }
   ],
   "source": [
    "num=input()\n",
    "def sumdigits():\n",
    "    l=[int(x) for x in num]\n",
    "    print(f\"sum is {sum(l)}\")\n",
    "    \n",
    "sumdigits()       "
   ]
  },
  {
   "cell_type": "code",
   "execution_count": 2,
   "id": "afeeebc3",
   "metadata": {},
   "outputs": [
    {
     "name": "stdout",
     "output_type": "stream",
     "text": [
      "6\n",
      "8\n"
     ]
    }
   ],
   "source": [
    "n= int(input())\n",
    "\n",
    "def fib(n):\n",
    "    if n==1:\n",
    "        return 1\n",
    "    elif n==0:\n",
    "        return 0\n",
    "    else:\n",
    "        \n",
    "        return fib(n-1)+fib(n-2)\n",
    "       \n",
    "print(fib(n))\n"
   ]
  },
  {
   "cell_type": "code",
   "execution_count": 17,
   "id": "ff1b0677",
   "metadata": {},
   "outputs": [
    {
     "name": "stdout",
     "output_type": "stream",
     "text": [
      "120\n"
     ]
    }
   ],
   "source": [
    "def fact(n):\n",
    "    if n==0:\n",
    "        return(1)\n",
    "    else:\n",
    "        return( n*fact(n-1))\n",
    "print(fact(5))"
   ]
  },
  {
   "cell_type": "code",
   "execution_count": 3,
   "id": "1601b1df",
   "metadata": {},
   "outputs": [
    {
     "name": "stdout",
     "output_type": "stream",
     "text": [
      "6 -4\n"
     ]
    }
   ],
   "source": [
    "def add_sub(x,y):\n",
    "    add=x+y\n",
    "    sub=x-y\n",
    "    return add,sub\n",
    "a,b=add_sub(1,5)\n",
    "print(a,b)  "
   ]
  },
  {
   "cell_type": "code",
   "execution_count": null,
   "id": "d16da015",
   "metadata": {},
   "outputs": [],
   "source": []
  }
 ],
 "metadata": {
  "kernelspec": {
   "display_name": "Python 3 (ipykernel)",
   "language": "python",
   "name": "python3"
  },
  "language_info": {
   "codemirror_mode": {
    "name": "ipython",
    "version": 3
   },
   "file_extension": ".py",
   "mimetype": "text/x-python",
   "name": "python",
   "nbconvert_exporter": "python",
   "pygments_lexer": "ipython3",
   "version": "3.9.7"
  }
 },
 "nbformat": 4,
 "nbformat_minor": 5
}
